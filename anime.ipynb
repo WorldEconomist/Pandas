{
 "cells": [
  {
   "cell_type": "code",
   "execution_count": 1,
   "id": "30317d31",
   "metadata": {
    "execution": {
     "iopub.execute_input": "2022-11-07T18:41:53.795930Z",
     "iopub.status.busy": "2022-11-07T18:41:53.795531Z",
     "iopub.status.idle": "2022-11-07T18:41:53.803304Z",
     "shell.execute_reply": "2022-11-07T18:41:53.802689Z"
    },
    "jupyter": {
     "source_hidden": true
    },
    "papermill": {
     "duration": 0.013759,
     "end_time": "2022-11-07T18:41:53.804916",
     "exception": false,
     "start_time": "2022-11-07T18:41:53.791157",
     "status": "completed"
    },
    "tags": []
   },
   "outputs": [],
   "source": [
    "import numpy as np\n",
    "import matplotlib.pyplot as plt\n",
    "import pandas as pd\n"
   ]
  },
  {
   "cell_type": "code",
   "execution_count": 2,
   "id": "99d37e43",
   "metadata": {
    "execution": {
     "iopub.execute_input": "2022-11-07T18:41:53.810550Z",
     "iopub.status.busy": "2022-11-07T18:41:53.809726Z",
     "iopub.status.idle": "2022-11-07T18:41:56.344877Z",
     "shell.execute_reply": "2022-11-07T18:41:56.344170Z"
    },
    "jupyter": {
     "source_hidden": true
    },
    "papermill": {
     "duration": 2.539882,
     "end_time": "2022-11-07T18:41:56.346982",
     "exception": false,
     "start_time": "2022-11-07T18:41:53.807100",
     "status": "completed"
    },
    "scrolled": true,
    "tags": []
   },
   "outputs": [],
   "source": [
    "anime = pd.read_csv('../input/anime-recommendations-database/anime.csv')\n",
    "rating = pd.read_csv('../input/anime-recommendations-database/rating.csv')"
   ]
  },
  {
   "cell_type": "code",
   "execution_count": 3,
   "id": "0c832851",
   "metadata": {
    "execution": {
     "iopub.execute_input": "2022-11-07T18:41:56.353196Z",
     "iopub.status.busy": "2022-11-07T18:41:56.352823Z",
     "iopub.status.idle": "2022-11-07T18:41:58.049510Z",
     "shell.execute_reply": "2022-11-07T18:41:58.048340Z"
    },
    "jupyter": {
     "source_hidden": true
    },
    "papermill": {
     "duration": 1.702263,
     "end_time": "2022-11-07T18:41:58.051472",
     "exception": false,
     "start_time": "2022-11-07T18:41:56.349209",
     "status": "completed"
    },
    "tags": []
   },
   "outputs": [
    {
     "data": {
      "text/html": [
       "<div>\n",
       "<style scoped>\n",
       "    .dataframe tbody tr th:only-of-type {\n",
       "        vertical-align: middle;\n",
       "    }\n",
       "\n",
       "    .dataframe tbody tr th {\n",
       "        vertical-align: top;\n",
       "    }\n",
       "\n",
       "    .dataframe thead th {\n",
       "        text-align: right;\n",
       "    }\n",
       "</style>\n",
       "<table border=\"1\" class=\"dataframe\">\n",
       "  <thead>\n",
       "    <tr style=\"text-align: right;\">\n",
       "      <th></th>\n",
       "      <th>user_id</th>\n",
       "      <th>anime_id</th>\n",
       "      <th>name</th>\n",
       "      <th>genre</th>\n",
       "      <th>type</th>\n",
       "      <th>episodes</th>\n",
       "      <th>rating</th>\n",
       "      <th>members</th>\n",
       "    </tr>\n",
       "  </thead>\n",
       "  <tbody>\n",
       "    <tr>\n",
       "      <th>0</th>\n",
       "      <td>1</td>\n",
       "      <td>20</td>\n",
       "      <td>Naruto</td>\n",
       "      <td>Action, Comedy, Martial Arts, Shounen, Super P...</td>\n",
       "      <td>TV</td>\n",
       "      <td>220</td>\n",
       "      <td>7.81</td>\n",
       "      <td>683297</td>\n",
       "    </tr>\n",
       "    <tr>\n",
       "      <th>1</th>\n",
       "      <td>3</td>\n",
       "      <td>20</td>\n",
       "      <td>Naruto</td>\n",
       "      <td>Action, Comedy, Martial Arts, Shounen, Super P...</td>\n",
       "      <td>TV</td>\n",
       "      <td>220</td>\n",
       "      <td>7.81</td>\n",
       "      <td>683297</td>\n",
       "    </tr>\n",
       "    <tr>\n",
       "      <th>2</th>\n",
       "      <td>5</td>\n",
       "      <td>20</td>\n",
       "      <td>Naruto</td>\n",
       "      <td>Action, Comedy, Martial Arts, Shounen, Super P...</td>\n",
       "      <td>TV</td>\n",
       "      <td>220</td>\n",
       "      <td>7.81</td>\n",
       "      <td>683297</td>\n",
       "    </tr>\n",
       "    <tr>\n",
       "      <th>3</th>\n",
       "      <td>6</td>\n",
       "      <td>20</td>\n",
       "      <td>Naruto</td>\n",
       "      <td>Action, Comedy, Martial Arts, Shounen, Super P...</td>\n",
       "      <td>TV</td>\n",
       "      <td>220</td>\n",
       "      <td>7.81</td>\n",
       "      <td>683297</td>\n",
       "    </tr>\n",
       "    <tr>\n",
       "      <th>4</th>\n",
       "      <td>10</td>\n",
       "      <td>20</td>\n",
       "      <td>Naruto</td>\n",
       "      <td>Action, Comedy, Martial Arts, Shounen, Super P...</td>\n",
       "      <td>TV</td>\n",
       "      <td>220</td>\n",
       "      <td>7.81</td>\n",
       "      <td>683297</td>\n",
       "    </tr>\n",
       "    <tr>\n",
       "      <th>...</th>\n",
       "      <td>...</td>\n",
       "      <td>...</td>\n",
       "      <td>...</td>\n",
       "      <td>...</td>\n",
       "      <td>...</td>\n",
       "      <td>...</td>\n",
       "      <td>...</td>\n",
       "      <td>...</td>\n",
       "    </tr>\n",
       "    <tr>\n",
       "      <th>7813722</th>\n",
       "      <td>65682</td>\n",
       "      <td>30450</td>\n",
       "      <td>Dr. Slump: Hoyoyo! Arale no Himitsu Dai Koukai...</td>\n",
       "      <td>Comedy, Sci-Fi, Shounen</td>\n",
       "      <td>Special</td>\n",
       "      <td>1</td>\n",
       "      <td>6.17</td>\n",
       "      <td>248</td>\n",
       "    </tr>\n",
       "    <tr>\n",
       "      <th>7813723</th>\n",
       "      <td>69497</td>\n",
       "      <td>33484</td>\n",
       "      <td>Shiroi Zou</td>\n",
       "      <td>Action, Historical, Kids</td>\n",
       "      <td>Movie</td>\n",
       "      <td>1</td>\n",
       "      <td>4.71</td>\n",
       "      <td>45</td>\n",
       "    </tr>\n",
       "    <tr>\n",
       "      <th>7813724</th>\n",
       "      <td>70463</td>\n",
       "      <td>29481</td>\n",
       "      <td>Kakinoki Mokkii</td>\n",
       "      <td>Fantasy, Kids</td>\n",
       "      <td>Special</td>\n",
       "      <td>1</td>\n",
       "      <td>4.33</td>\n",
       "      <td>61</td>\n",
       "    </tr>\n",
       "    <tr>\n",
       "      <th>7813725</th>\n",
       "      <td>72404</td>\n",
       "      <td>34412</td>\n",
       "      <td>Hashiri Hajimeta bakari no Kimi ni</td>\n",
       "      <td>Music</td>\n",
       "      <td>Music</td>\n",
       "      <td>1</td>\n",
       "      <td>6.76</td>\n",
       "      <td>239</td>\n",
       "    </tr>\n",
       "    <tr>\n",
       "      <th>7813726</th>\n",
       "      <td>72800</td>\n",
       "      <td>30738</td>\n",
       "      <td>Gamba: Gamba to Nakama-tachi</td>\n",
       "      <td>Adventure, Kids</td>\n",
       "      <td>Movie</td>\n",
       "      <td>1</td>\n",
       "      <td>5.55</td>\n",
       "      <td>185</td>\n",
       "    </tr>\n",
       "  </tbody>\n",
       "</table>\n",
       "<p>7813727 rows × 8 columns</p>\n",
       "</div>"
      ],
      "text/plain": [
       "         user_id  anime_id                                               name  \\\n",
       "0              1        20                                             Naruto   \n",
       "1              3        20                                             Naruto   \n",
       "2              5        20                                             Naruto   \n",
       "3              6        20                                             Naruto   \n",
       "4             10        20                                             Naruto   \n",
       "...          ...       ...                                                ...   \n",
       "7813722    65682     30450  Dr. Slump: Hoyoyo! Arale no Himitsu Dai Koukai...   \n",
       "7813723    69497     33484                                         Shiroi Zou   \n",
       "7813724    70463     29481                                    Kakinoki Mokkii   \n",
       "7813725    72404     34412                 Hashiri Hajimeta bakari no Kimi ni   \n",
       "7813726    72800     30738                       Gamba: Gamba to Nakama-tachi   \n",
       "\n",
       "                                                     genre     type episodes  \\\n",
       "0        Action, Comedy, Martial Arts, Shounen, Super P...       TV      220   \n",
       "1        Action, Comedy, Martial Arts, Shounen, Super P...       TV      220   \n",
       "2        Action, Comedy, Martial Arts, Shounen, Super P...       TV      220   \n",
       "3        Action, Comedy, Martial Arts, Shounen, Super P...       TV      220   \n",
       "4        Action, Comedy, Martial Arts, Shounen, Super P...       TV      220   \n",
       "...                                                    ...      ...      ...   \n",
       "7813722                            Comedy, Sci-Fi, Shounen  Special        1   \n",
       "7813723                           Action, Historical, Kids    Movie        1   \n",
       "7813724                                      Fantasy, Kids  Special        1   \n",
       "7813725                                              Music    Music        1   \n",
       "7813726                                    Adventure, Kids    Movie        1   \n",
       "\n",
       "         rating  members  \n",
       "0          7.81   683297  \n",
       "1          7.81   683297  \n",
       "2          7.81   683297  \n",
       "3          7.81   683297  \n",
       "4          7.81   683297  \n",
       "...         ...      ...  \n",
       "7813722    6.17      248  \n",
       "7813723    4.71       45  \n",
       "7813724    4.33       61  \n",
       "7813725    6.76      239  \n",
       "7813726    5.55      185  \n",
       "\n",
       "[7813727 rows x 8 columns]"
      ]
     },
     "execution_count": 3,
     "metadata": {},
     "output_type": "execute_result"
    }
   ],
   "source": [
    "data = pd.merge(rating, anime, on = 'anime_id')\n",
    "data = data.drop('rating_x', axis = 1)\n",
    "data.rename(columns = {'rating_y':'rating'}, inplace = True)\n",
    "data"
   ]
  },
  {
   "cell_type": "markdown",
   "id": "94b399a5",
   "metadata": {
    "papermill": {
     "duration": 0.002197,
     "end_time": "2022-11-07T18:41:58.056266",
     "exception": false,
     "start_time": "2022-11-07T18:41:58.054069",
     "status": "completed"
    },
    "tags": []
   },
   "source": [
    "## Анализ ##\n",
    "Найдём количество уникальных названий аниме"
   ]
  },
  {
   "cell_type": "code",
   "execution_count": 4,
   "id": "8804698a",
   "metadata": {
    "execution": {
     "iopub.execute_input": "2022-11-07T18:41:58.062782Z",
     "iopub.status.busy": "2022-11-07T18:41:58.062406Z",
     "iopub.status.idle": "2022-11-07T18:41:58.669387Z",
     "shell.execute_reply": "2022-11-07T18:41:58.668510Z"
    },
    "papermill": {
     "duration": 0.613162,
     "end_time": "2022-11-07T18:41:58.672048",
     "exception": false,
     "start_time": "2022-11-07T18:41:58.058886",
     "status": "completed"
    },
    "tags": []
   },
   "outputs": [
    {
     "data": {
      "text/plain": [
       "array(['Naruto', 'School Rumble', 'Shuffle!', ..., 'Kakinoki Mokkii',\n",
       "       'Hashiri Hajimeta bakari no Kimi ni',\n",
       "       'Gamba: Gamba to Nakama-tachi'], dtype=object)"
      ]
     },
     "execution_count": 4,
     "metadata": {},
     "output_type": "execute_result"
    }
   ],
   "source": [
    "data.name.unique()"
   ]
  },
  {
   "cell_type": "code",
   "execution_count": 5,
   "id": "64f6ee39",
   "metadata": {
    "execution": {
     "iopub.execute_input": "2022-11-07T18:41:58.679290Z",
     "iopub.status.busy": "2022-11-07T18:41:58.678341Z",
     "iopub.status.idle": "2022-11-07T18:41:59.289845Z",
     "shell.execute_reply": "2022-11-07T18:41:59.288362Z"
    },
    "papermill": {
     "duration": 0.617269,
     "end_time": "2022-11-07T18:41:59.292012",
     "exception": false,
     "start_time": "2022-11-07T18:41:58.674743",
     "status": "completed"
    },
    "tags": []
   },
   "outputs": [
    {
     "data": {
      "text/plain": [
       "11196"
      ]
     },
     "execution_count": 5,
     "metadata": {},
     "output_type": "execute_result"
    }
   ],
   "source": [
    "data['name'].nunique()"
   ]
  }
 ],
 "metadata": {
  "kernelspec": {
   "display_name": "Python 3",
   "language": "python",
   "name": "python3"
  },
  "language_info": {
   "codemirror_mode": {
    "name": "ipython",
    "version": 3
   },
   "file_extension": ".py",
   "mimetype": "text/x-python",
   "name": "python",
   "nbconvert_exporter": "python",
   "pygments_lexer": "ipython3",
   "version": "3.7.12"
  },
  "papermill": {
   "default_parameters": {},
   "duration": 13.081284,
   "end_time": "2022-11-07T18:41:59.915759",
   "environment_variables": {},
   "exception": null,
   "input_path": "__notebook__.ipynb",
   "output_path": "__notebook__.ipynb",
   "parameters": {},
   "start_time": "2022-11-07T18:41:46.834475",
   "version": "2.3.4"
  }
 },
 "nbformat": 4,
 "nbformat_minor": 5
}
