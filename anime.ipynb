{
 "cells": [
  {
   "cell_type": "code",
   "execution_count": 1,
   "id": "8cd65f8c",
   "metadata": {
    "execution": {
     "iopub.execute_input": "2022-11-08T09:36:34.385339Z",
     "iopub.status.busy": "2022-11-08T09:36:34.384877Z",
     "iopub.status.idle": "2022-11-08T09:36:34.395352Z",
     "shell.execute_reply": "2022-11-08T09:36:34.394135Z"
    },
    "papermill": {
     "duration": 0.018079,
     "end_time": "2022-11-08T09:36:34.397947",
     "exception": false,
     "start_time": "2022-11-08T09:36:34.379868",
     "status": "completed"
    },
    "tags": []
   },
   "outputs": [],
   "source": [
    "import numpy as np\n",
    "import matplotlib.pyplot as plt\n",
    "import pandas as pd\n"
   ]
  },
  {
   "cell_type": "code",
   "execution_count": 2,
   "id": "bf7887af",
   "metadata": {
    "execution": {
     "iopub.execute_input": "2022-11-08T09:36:34.405371Z",
     "iopub.status.busy": "2022-11-08T09:36:34.404856Z",
     "iopub.status.idle": "2022-11-08T09:36:36.898326Z",
     "shell.execute_reply": "2022-11-08T09:36:36.897298Z"
    },
    "papermill": {
     "duration": 2.499599,
     "end_time": "2022-11-08T09:36:36.900589",
     "exception": false,
     "start_time": "2022-11-08T09:36:34.400990",
     "status": "completed"
    },
    "scrolled": true,
    "tags": []
   },
   "outputs": [],
   "source": [
    "anime = pd.read_csv('../input/anime-recommendations-database/anime.csv')\n",
    "rating = pd.read_csv('../input/anime-recommendations-database/rating.csv')"
   ]
  },
  {
   "cell_type": "code",
   "execution_count": 3,
   "id": "623a81b5",
   "metadata": {
    "execution": {
     "iopub.execute_input": "2022-11-08T09:36:36.907882Z",
     "iopub.status.busy": "2022-11-08T09:36:36.907007Z",
     "iopub.status.idle": "2022-11-08T09:36:38.607142Z",
     "shell.execute_reply": "2022-11-08T09:36:38.606033Z"
    },
    "papermill": {
     "duration": 1.706292,
     "end_time": "2022-11-08T09:36:38.609763",
     "exception": false,
     "start_time": "2022-11-08T09:36:36.903471",
     "status": "completed"
    },
    "tags": []
   },
   "outputs": [
    {
     "data": {
      "text/html": [
       "<div>\n",
       "<style scoped>\n",
       "    .dataframe tbody tr th:only-of-type {\n",
       "        vertical-align: middle;\n",
       "    }\n",
       "\n",
       "    .dataframe tbody tr th {\n",
       "        vertical-align: top;\n",
       "    }\n",
       "\n",
       "    .dataframe thead th {\n",
       "        text-align: right;\n",
       "    }\n",
       "</style>\n",
       "<table border=\"1\" class=\"dataframe\">\n",
       "  <thead>\n",
       "    <tr style=\"text-align: right;\">\n",
       "      <th></th>\n",
       "      <th>user_id</th>\n",
       "      <th>anime_id</th>\n",
       "      <th>name</th>\n",
       "      <th>genre</th>\n",
       "      <th>type</th>\n",
       "      <th>episodes</th>\n",
       "      <th>rating</th>\n",
       "      <th>members</th>\n",
       "    </tr>\n",
       "  </thead>\n",
       "  <tbody>\n",
       "    <tr>\n",
       "      <th>0</th>\n",
       "      <td>1</td>\n",
       "      <td>20</td>\n",
       "      <td>Naruto</td>\n",
       "      <td>Action, Comedy, Martial Arts, Shounen, Super P...</td>\n",
       "      <td>TV</td>\n",
       "      <td>220</td>\n",
       "      <td>7.81</td>\n",
       "      <td>683297</td>\n",
       "    </tr>\n",
       "    <tr>\n",
       "      <th>1</th>\n",
       "      <td>3</td>\n",
       "      <td>20</td>\n",
       "      <td>Naruto</td>\n",
       "      <td>Action, Comedy, Martial Arts, Shounen, Super P...</td>\n",
       "      <td>TV</td>\n",
       "      <td>220</td>\n",
       "      <td>7.81</td>\n",
       "      <td>683297</td>\n",
       "    </tr>\n",
       "    <tr>\n",
       "      <th>2</th>\n",
       "      <td>5</td>\n",
       "      <td>20</td>\n",
       "      <td>Naruto</td>\n",
       "      <td>Action, Comedy, Martial Arts, Shounen, Super P...</td>\n",
       "      <td>TV</td>\n",
       "      <td>220</td>\n",
       "      <td>7.81</td>\n",
       "      <td>683297</td>\n",
       "    </tr>\n",
       "    <tr>\n",
       "      <th>3</th>\n",
       "      <td>6</td>\n",
       "      <td>20</td>\n",
       "      <td>Naruto</td>\n",
       "      <td>Action, Comedy, Martial Arts, Shounen, Super P...</td>\n",
       "      <td>TV</td>\n",
       "      <td>220</td>\n",
       "      <td>7.81</td>\n",
       "      <td>683297</td>\n",
       "    </tr>\n",
       "    <tr>\n",
       "      <th>4</th>\n",
       "      <td>10</td>\n",
       "      <td>20</td>\n",
       "      <td>Naruto</td>\n",
       "      <td>Action, Comedy, Martial Arts, Shounen, Super P...</td>\n",
       "      <td>TV</td>\n",
       "      <td>220</td>\n",
       "      <td>7.81</td>\n",
       "      <td>683297</td>\n",
       "    </tr>\n",
       "    <tr>\n",
       "      <th>...</th>\n",
       "      <td>...</td>\n",
       "      <td>...</td>\n",
       "      <td>...</td>\n",
       "      <td>...</td>\n",
       "      <td>...</td>\n",
       "      <td>...</td>\n",
       "      <td>...</td>\n",
       "      <td>...</td>\n",
       "    </tr>\n",
       "    <tr>\n",
       "      <th>7813722</th>\n",
       "      <td>65682</td>\n",
       "      <td>30450</td>\n",
       "      <td>Dr. Slump: Hoyoyo! Arale no Himitsu Dai Koukai...</td>\n",
       "      <td>Comedy, Sci-Fi, Shounen</td>\n",
       "      <td>Special</td>\n",
       "      <td>1</td>\n",
       "      <td>6.17</td>\n",
       "      <td>248</td>\n",
       "    </tr>\n",
       "    <tr>\n",
       "      <th>7813723</th>\n",
       "      <td>69497</td>\n",
       "      <td>33484</td>\n",
       "      <td>Shiroi Zou</td>\n",
       "      <td>Action, Historical, Kids</td>\n",
       "      <td>Movie</td>\n",
       "      <td>1</td>\n",
       "      <td>4.71</td>\n",
       "      <td>45</td>\n",
       "    </tr>\n",
       "    <tr>\n",
       "      <th>7813724</th>\n",
       "      <td>70463</td>\n",
       "      <td>29481</td>\n",
       "      <td>Kakinoki Mokkii</td>\n",
       "      <td>Fantasy, Kids</td>\n",
       "      <td>Special</td>\n",
       "      <td>1</td>\n",
       "      <td>4.33</td>\n",
       "      <td>61</td>\n",
       "    </tr>\n",
       "    <tr>\n",
       "      <th>7813725</th>\n",
       "      <td>72404</td>\n",
       "      <td>34412</td>\n",
       "      <td>Hashiri Hajimeta bakari no Kimi ni</td>\n",
       "      <td>Music</td>\n",
       "      <td>Music</td>\n",
       "      <td>1</td>\n",
       "      <td>6.76</td>\n",
       "      <td>239</td>\n",
       "    </tr>\n",
       "    <tr>\n",
       "      <th>7813726</th>\n",
       "      <td>72800</td>\n",
       "      <td>30738</td>\n",
       "      <td>Gamba: Gamba to Nakama-tachi</td>\n",
       "      <td>Adventure, Kids</td>\n",
       "      <td>Movie</td>\n",
       "      <td>1</td>\n",
       "      <td>5.55</td>\n",
       "      <td>185</td>\n",
       "    </tr>\n",
       "  </tbody>\n",
       "</table>\n",
       "<p>7813727 rows × 8 columns</p>\n",
       "</div>"
      ],
      "text/plain": [
       "         user_id  anime_id                                               name  \\\n",
       "0              1        20                                             Naruto   \n",
       "1              3        20                                             Naruto   \n",
       "2              5        20                                             Naruto   \n",
       "3              6        20                                             Naruto   \n",
       "4             10        20                                             Naruto   \n",
       "...          ...       ...                                                ...   \n",
       "7813722    65682     30450  Dr. Slump: Hoyoyo! Arale no Himitsu Dai Koukai...   \n",
       "7813723    69497     33484                                         Shiroi Zou   \n",
       "7813724    70463     29481                                    Kakinoki Mokkii   \n",
       "7813725    72404     34412                 Hashiri Hajimeta bakari no Kimi ni   \n",
       "7813726    72800     30738                       Gamba: Gamba to Nakama-tachi   \n",
       "\n",
       "                                                     genre     type episodes  \\\n",
       "0        Action, Comedy, Martial Arts, Shounen, Super P...       TV      220   \n",
       "1        Action, Comedy, Martial Arts, Shounen, Super P...       TV      220   \n",
       "2        Action, Comedy, Martial Arts, Shounen, Super P...       TV      220   \n",
       "3        Action, Comedy, Martial Arts, Shounen, Super P...       TV      220   \n",
       "4        Action, Comedy, Martial Arts, Shounen, Super P...       TV      220   \n",
       "...                                                    ...      ...      ...   \n",
       "7813722                            Comedy, Sci-Fi, Shounen  Special        1   \n",
       "7813723                           Action, Historical, Kids    Movie        1   \n",
       "7813724                                      Fantasy, Kids  Special        1   \n",
       "7813725                                              Music    Music        1   \n",
       "7813726                                    Adventure, Kids    Movie        1   \n",
       "\n",
       "         rating  members  \n",
       "0          7.81   683297  \n",
       "1          7.81   683297  \n",
       "2          7.81   683297  \n",
       "3          7.81   683297  \n",
       "4          7.81   683297  \n",
       "...         ...      ...  \n",
       "7813722    6.17      248  \n",
       "7813723    4.71       45  \n",
       "7813724    4.33       61  \n",
       "7813725    6.76      239  \n",
       "7813726    5.55      185  \n",
       "\n",
       "[7813727 rows x 8 columns]"
      ]
     },
     "execution_count": 3,
     "metadata": {},
     "output_type": "execute_result"
    }
   ],
   "source": [
    "data = pd.merge(rating, anime, on = 'anime_id')\n",
    "data = data.drop('rating_x', axis = 1)\n",
    "data.rename(columns = {'rating_y':'rating'}, inplace = True)\n",
    "data"
   ]
  },
  {
   "cell_type": "markdown",
   "id": "a4df1996",
   "metadata": {
    "papermill": {
     "duration": 0.002733,
     "end_time": "2022-11-08T09:36:38.615694",
     "exception": false,
     "start_time": "2022-11-08T09:36:38.612961",
     "status": "completed"
    },
    "tags": []
   },
   "source": [
    "## Анализ ##\n",
    "**Найдём количество уникальных названий аниме**"
   ]
  },
  {
   "cell_type": "code",
   "execution_count": 4,
   "id": "fbe5020e",
   "metadata": {
    "execution": {
     "iopub.execute_input": "2022-11-08T09:36:38.623386Z",
     "iopub.status.busy": "2022-11-08T09:36:38.622541Z",
     "iopub.status.idle": "2022-11-08T09:36:39.225376Z",
     "shell.execute_reply": "2022-11-08T09:36:39.223858Z"
    },
    "papermill": {
     "duration": 0.609577,
     "end_time": "2022-11-08T09:36:39.228166",
     "exception": false,
     "start_time": "2022-11-08T09:36:38.618589",
     "status": "completed"
    },
    "tags": []
   },
   "outputs": [
    {
     "data": {
      "text/plain": [
       "array(['Naruto', 'School Rumble', 'Shuffle!', ..., 'Kakinoki Mokkii',\n",
       "       'Hashiri Hajimeta bakari no Kimi ni',\n",
       "       'Gamba: Gamba to Nakama-tachi'], dtype=object)"
      ]
     },
     "execution_count": 4,
     "metadata": {},
     "output_type": "execute_result"
    }
   ],
   "source": [
    "data.name.unique()"
   ]
  },
  {
   "cell_type": "code",
   "execution_count": 5,
   "id": "cc056147",
   "metadata": {
    "execution": {
     "iopub.execute_input": "2022-11-08T09:36:39.238322Z",
     "iopub.status.busy": "2022-11-08T09:36:39.237439Z",
     "iopub.status.idle": "2022-11-08T09:36:39.836416Z",
     "shell.execute_reply": "2022-11-08T09:36:39.835397Z"
    },
    "papermill": {
     "duration": 0.607145,
     "end_time": "2022-11-08T09:36:39.838745",
     "exception": false,
     "start_time": "2022-11-08T09:36:39.231600",
     "status": "completed"
    },
    "tags": []
   },
   "outputs": [
    {
     "data": {
      "text/plain": [
       "11196"
      ]
     },
     "execution_count": 5,
     "metadata": {},
     "output_type": "execute_result"
    }
   ],
   "source": [
    "data['name'].nunique()"
   ]
  },
  {
   "cell_type": "markdown",
   "id": "0407cfbe",
   "metadata": {
    "papermill": {
     "duration": 0.003117,
     "end_time": "2022-11-08T09:36:39.845648",
     "exception": false,
     "start_time": "2022-11-08T09:36:39.842531",
     "status": "completed"
    },
    "tags": []
   },
   "source": [
    "**Найдём среднее количество эпизодов в аниме**"
   ]
  },
  {
   "cell_type": "code",
   "execution_count": 6,
   "id": "eeae481b",
   "metadata": {
    "execution": {
     "iopub.execute_input": "2022-11-08T09:36:39.853960Z",
     "iopub.status.busy": "2022-11-08T09:36:39.853597Z",
     "iopub.status.idle": "2022-11-08T09:36:40.645832Z",
     "shell.execute_reply": "2022-11-08T09:36:40.645001Z"
    },
    "papermill": {
     "duration": 0.798778,
     "end_time": "2022-11-08T09:36:40.647815",
     "exception": false,
     "start_time": "2022-11-08T09:36:39.849037",
     "status": "completed"
    },
    "tags": []
   },
   "outputs": [
    {
     "data": {
      "text/html": [
       "<div>\n",
       "<style scoped>\n",
       "    .dataframe tbody tr th:only-of-type {\n",
       "        vertical-align: middle;\n",
       "    }\n",
       "\n",
       "    .dataframe tbody tr th {\n",
       "        vertical-align: top;\n",
       "    }\n",
       "\n",
       "    .dataframe thead th {\n",
       "        text-align: right;\n",
       "    }\n",
       "</style>\n",
       "<table border=\"1\" class=\"dataframe\">\n",
       "  <thead>\n",
       "    <tr style=\"text-align: right;\">\n",
       "      <th></th>\n",
       "      <th>Anime</th>\n",
       "      <th>Episodes</th>\n",
       "    </tr>\n",
       "  </thead>\n",
       "  <tbody>\n",
       "    <tr>\n",
       "      <th>0</th>\n",
       "      <td>Naruto</td>\n",
       "      <td>220</td>\n",
       "    </tr>\n",
       "    <tr>\n",
       "      <th>1</th>\n",
       "      <td>Naruto</td>\n",
       "      <td>220</td>\n",
       "    </tr>\n",
       "    <tr>\n",
       "      <th>2</th>\n",
       "      <td>Naruto</td>\n",
       "      <td>220</td>\n",
       "    </tr>\n",
       "    <tr>\n",
       "      <th>3</th>\n",
       "      <td>Naruto</td>\n",
       "      <td>220</td>\n",
       "    </tr>\n",
       "    <tr>\n",
       "      <th>4</th>\n",
       "      <td>Naruto</td>\n",
       "      <td>220</td>\n",
       "    </tr>\n",
       "    <tr>\n",
       "      <th>...</th>\n",
       "      <td>...</td>\n",
       "      <td>...</td>\n",
       "    </tr>\n",
       "    <tr>\n",
       "      <th>7813722</th>\n",
       "      <td>Dr. Slump: Hoyoyo! Arale no Himitsu Dai Koukai...</td>\n",
       "      <td>1</td>\n",
       "    </tr>\n",
       "    <tr>\n",
       "      <th>7813723</th>\n",
       "      <td>Shiroi Zou</td>\n",
       "      <td>1</td>\n",
       "    </tr>\n",
       "    <tr>\n",
       "      <th>7813724</th>\n",
       "      <td>Kakinoki Mokkii</td>\n",
       "      <td>1</td>\n",
       "    </tr>\n",
       "    <tr>\n",
       "      <th>7813725</th>\n",
       "      <td>Hashiri Hajimeta bakari no Kimi ni</td>\n",
       "      <td>1</td>\n",
       "    </tr>\n",
       "    <tr>\n",
       "      <th>7813726</th>\n",
       "      <td>Gamba: Gamba to Nakama-tachi</td>\n",
       "      <td>1</td>\n",
       "    </tr>\n",
       "  </tbody>\n",
       "</table>\n",
       "<p>7813727 rows × 2 columns</p>\n",
       "</div>"
      ],
      "text/plain": [
       "                                                     Anime Episodes\n",
       "0                                                   Naruto      220\n",
       "1                                                   Naruto      220\n",
       "2                                                   Naruto      220\n",
       "3                                                   Naruto      220\n",
       "4                                                   Naruto      220\n",
       "...                                                    ...      ...\n",
       "7813722  Dr. Slump: Hoyoyo! Arale no Himitsu Dai Koukai...        1\n",
       "7813723                                         Shiroi Zou        1\n",
       "7813724                                    Kakinoki Mokkii        1\n",
       "7813725                 Hashiri Hajimeta bakari no Kimi ni        1\n",
       "7813726                       Gamba: Gamba to Nakama-tachi        1\n",
       "\n",
       "[7813727 rows x 2 columns]"
      ]
     },
     "execution_count": 6,
     "metadata": {},
     "output_type": "execute_result"
    }
   ],
   "source": [
    "AnimeE = pd.DataFrame(columns = ['Anime', 'Episodes'])\n",
    "AnimeE['Anime'] = data.name\n",
    "AnimeE['Episodes'] = data.episodes\n",
    "AnimeE"
   ]
  },
  {
   "cell_type": "code",
   "execution_count": 7,
   "id": "6b56f604",
   "metadata": {
    "execution": {
     "iopub.execute_input": "2022-11-08T09:36:40.656213Z",
     "iopub.status.busy": "2022-11-08T09:36:40.655848Z",
     "iopub.status.idle": "2022-11-08T09:36:41.438394Z",
     "shell.execute_reply": "2022-11-08T09:36:41.437484Z"
    },
    "papermill": {
     "duration": 0.788744,
     "end_time": "2022-11-08T09:36:41.440095",
     "exception": false,
     "start_time": "2022-11-08T09:36:40.651351",
     "status": "completed"
    },
    "tags": []
   },
   "outputs": [
    {
     "data": {
      "text/html": [
       "<div>\n",
       "<style scoped>\n",
       "    .dataframe tbody tr th:only-of-type {\n",
       "        vertical-align: middle;\n",
       "    }\n",
       "\n",
       "    .dataframe tbody tr th {\n",
       "        vertical-align: top;\n",
       "    }\n",
       "\n",
       "    .dataframe thead th {\n",
       "        text-align: right;\n",
       "    }\n",
       "</style>\n",
       "<table border=\"1\" class=\"dataframe\">\n",
       "  <thead>\n",
       "    <tr style=\"text-align: right;\">\n",
       "      <th></th>\n",
       "      <th>Anime</th>\n",
       "      <th>Episodes</th>\n",
       "    </tr>\n",
       "  </thead>\n",
       "  <tbody>\n",
       "    <tr>\n",
       "      <th>0</th>\n",
       "      <td>Naruto</td>\n",
       "      <td>220</td>\n",
       "    </tr>\n",
       "    <tr>\n",
       "      <th>25925</th>\n",
       "      <td>School Rumble</td>\n",
       "      <td>26</td>\n",
       "    </tr>\n",
       "    <tr>\n",
       "      <th>33078</th>\n",
       "      <td>Shuffle!</td>\n",
       "      <td>24</td>\n",
       "    </tr>\n",
       "    <tr>\n",
       "      <th>40190</th>\n",
       "      <td>Elfen Lied</td>\n",
       "      <td>13</td>\n",
       "    </tr>\n",
       "    <tr>\n",
       "      <th>67696</th>\n",
       "      <td>Girls Bravo: First Season</td>\n",
       "      <td>11</td>\n",
       "    </tr>\n",
       "    <tr>\n",
       "      <th>...</th>\n",
       "      <td>...</td>\n",
       "      <td>...</td>\n",
       "    </tr>\n",
       "    <tr>\n",
       "      <th>7813722</th>\n",
       "      <td>Dr. Slump: Hoyoyo! Arale no Himitsu Dai Koukai...</td>\n",
       "      <td>1</td>\n",
       "    </tr>\n",
       "    <tr>\n",
       "      <th>7813723</th>\n",
       "      <td>Shiroi Zou</td>\n",
       "      <td>1</td>\n",
       "    </tr>\n",
       "    <tr>\n",
       "      <th>7813724</th>\n",
       "      <td>Kakinoki Mokkii</td>\n",
       "      <td>1</td>\n",
       "    </tr>\n",
       "    <tr>\n",
       "      <th>7813725</th>\n",
       "      <td>Hashiri Hajimeta bakari no Kimi ni</td>\n",
       "      <td>1</td>\n",
       "    </tr>\n",
       "    <tr>\n",
       "      <th>7813726</th>\n",
       "      <td>Gamba: Gamba to Nakama-tachi</td>\n",
       "      <td>1</td>\n",
       "    </tr>\n",
       "  </tbody>\n",
       "</table>\n",
       "<p>11191 rows × 2 columns</p>\n",
       "</div>"
      ],
      "text/plain": [
       "                                                     Anime Episodes\n",
       "0                                                   Naruto      220\n",
       "25925                                        School Rumble       26\n",
       "33078                                             Shuffle!       24\n",
       "40190                                           Elfen Lied       13\n",
       "67696                            Girls Bravo: First Season       11\n",
       "...                                                    ...      ...\n",
       "7813722  Dr. Slump: Hoyoyo! Arale no Himitsu Dai Koukai...        1\n",
       "7813723                                         Shiroi Zou        1\n",
       "7813724                                    Kakinoki Mokkii        1\n",
       "7813725                 Hashiri Hajimeta bakari no Kimi ni        1\n",
       "7813726                       Gamba: Gamba to Nakama-tachi        1\n",
       "\n",
       "[11191 rows x 2 columns]"
      ]
     },
     "execution_count": 7,
     "metadata": {},
     "output_type": "execute_result"
    }
   ],
   "source": [
    "AnimeE = AnimeE.drop_duplicates(subset='Anime')\n",
    "AnimeE.reset_index()\n",
    "AnimeE[AnimeE.Episodes != \"Unknown\"]"
   ]
  },
  {
   "cell_type": "code",
   "execution_count": 8,
   "id": "42ba4261",
   "metadata": {
    "execution": {
     "iopub.execute_input": "2022-11-08T09:36:41.449724Z",
     "iopub.status.busy": "2022-11-08T09:36:41.448358Z",
     "iopub.status.idle": "2022-11-08T09:36:41.453225Z",
     "shell.execute_reply": "2022-11-08T09:36:41.451912Z"
    },
    "papermill": {
     "duration": 0.011842,
     "end_time": "2022-11-08T09:36:41.455797",
     "exception": false,
     "start_time": "2022-11-08T09:36:41.443955",
     "status": "completed"
    },
    "tags": []
   },
   "outputs": [],
   "source": [
    "# AnimeE.Episodes.mean()"
   ]
  }
 ],
 "metadata": {
  "kernelspec": {
   "display_name": "Python 3",
   "language": "python",
   "name": "python3"
  },
  "language_info": {
   "codemirror_mode": {
    "name": "ipython",
    "version": 3
   },
   "file_extension": ".py",
   "mimetype": "text/x-python",
   "name": "python",
   "nbconvert_exporter": "python",
   "pygments_lexer": "ipython3",
   "version": "3.7.12"
  },
  "papermill": {
   "default_parameters": {},
   "duration": 15.166516,
   "end_time": "2022-11-08T09:36:42.179935",
   "environment_variables": {},
   "exception": null,
   "input_path": "__notebook__.ipynb",
   "output_path": "__notebook__.ipynb",
   "parameters": {},
   "start_time": "2022-11-08T09:36:27.013419",
   "version": "2.3.4"
  }
 },
 "nbformat": 4,
 "nbformat_minor": 5
}
